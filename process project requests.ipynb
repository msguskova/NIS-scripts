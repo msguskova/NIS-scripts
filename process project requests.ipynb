{
 "cells": [
  {
   "cell_type": "code",
   "execution_count": null,
   "metadata": {
    "colab": {
     "base_uri": "https://localhost:8080/"
    },
    "id": "BfjdVO5NC_jH",
    "outputId": "699ddb0e-0de0-460b-fe07-698c0021b459"
   },
   "outputs": [],
   "source": [
    "import gspread\n",
    "from oauth2client.service_account import ServiceAccountCredentials\n",
    "import pandas as pd\n",
    "\n",
    "from google.colab import drive\n",
    "drive.mount('/content/drive')\n",
    "\n",
    "from os import listdir\n",
    "listdir('drive/MyDrive/nis_2021_json')\n",
    "\n",
    "import numpy as np\n",
    "import time"
   ]
  },
  {
   "cell_type": "code",
   "execution_count": null,
   "metadata": {
    "id": "XrZtMLbyCwrJ"
   },
   "outputs": [],
   "source": [
    "# use creds to create a client to interact with the Google Drive API\n",
    "scope = ['https://spreadsheets.google.com/feeds',\n",
    "         'https://www.googleapis.com/auth/drive']\n",
    "creds = ServiceAccountCredentials.from_json_keyfile_name('drive/MyDrive/nis_2021_json/NIS2021-2-6b794392fe59.json', scope)\n",
    "client = gspread.authorize(creds)"
   ]
  },
  {
   "cell_type": "code",
   "execution_count": null,
   "metadata": {
    "colab": {
     "base_uri": "https://localhost:8080/",
     "height": 408
    },
    "id": "syfSsLRZCwrV",
    "outputId": "ab443f8e-a3c6-4c6e-d6f6-681f7ceba275"
   },
   "outputs": [],
   "source": [
    "table_name = 'НИС 1 курс 2021'\n",
    "#table_name = 'НИС 1 курс 2021 (copy)'\n",
    "\n",
    "sheet = client.open(table_name).worksheet('Список задач')\n",
    "sheet_log = client.open(table_name).worksheet('log')\n",
    "\n",
    "\n",
    "form_name = 'Выбор задачи 2021 (Ответы)'\n",
    "forma = client.open(form_name).sheet1\n",
    "\n",
    "# Extract and print all of the values\n",
    "list_of_hashes = forma.get_all_records()\n",
    "dfforma = pd.DataFrame(list_of_hashes)\n",
    "dfforma.set_index('Отметка времени')\n",
    "#dfforma.head(5)"
   ]
  },
  {
   "cell_type": "code",
   "execution_count": null,
   "metadata": {
    "id": "CrnadofNHNAC"
   },
   "outputs": [],
   "source": [
    "list_of_hashes = sheet.get_all_records()\n",
    "dfsheet = pd.DataFrame(list_of_hashes)"
   ]
  },
  {
   "cell_type": "code",
   "execution_count": null,
   "metadata": {
    "colab": {
     "base_uri": "https://localhost:8080/"
    },
    "id": "1ehuekkZHUXh",
    "outputId": "44f13403-0c36-44dc-b2d5-e1f49ce35734"
   },
   "outputs": [],
   "source": [
    "all_students = dfsheet['Студент'].tolist()\n",
    "all_students = [x.split(',') for x in all_students if x != '']\n",
    "lst = []\n",
    "for x  in all_students:\n",
    "    lst.extend(x)\n",
    "    \n",
    "for i, x in enumerate(lst):\n",
    "    if x[0] == ' ':\n",
    "        lst[i] = x[1:]\n",
    "        \n",
    "students = set(lst)\n",
    "len(students)"
   ]
  },
  {
   "cell_type": "code",
   "execution_count": null,
   "metadata": {
    "id": "6U1LagJGX3Wd"
   },
   "outputs": [],
   "source": [
    "ind_last = np.where(dfforma['статус'].to_numpy()=='')[0][0]"
   ]
  },
  {
   "cell_type": "code",
   "execution_count": null,
   "metadata": {
    "colab": {
     "base_uri": "https://localhost:8080/"
    },
    "id": "5gs2zRs5CwrW",
    "outputId": "71cd2508-0ec1-47e1-8d61-20e0e4ab2e1b"
   },
   "outputs": [],
   "source": [
    "last_update = dfforma['Отметка времени'].iloc[ind_last]\n",
    "print(last_update)#'06.02.2018 17:06:12'\n",
    "dfforma = dfforma.loc[dfforma['Отметка времени'] >= last_update]\n",
    "dfforma.shape[0]"
   ]
  },
  {
   "cell_type": "code",
   "execution_count": null,
   "metadata": {
    "colab": {
     "base_uri": "https://localhost:8080/",
     "height": 843
    },
    "id": "1xFLPpHECwrW",
    "outputId": "b080057d-ccd2-4d48-80e7-c81a8d0cb55b"
   },
   "outputs": [],
   "source": [
    "for index, row in dfforma.iterrows():\n",
    "    time.sleep(5)\n",
    "    print(index,row['Фамилия Имя Отчество'])\n",
    "    if row['Фамилия Имя Отчество'] in students:\n",
    "        print(row['Фамилия Имя Отчество'], ' already added')\n",
    "        forma.update_cell(index+2, 12, 'already added')\n",
    "        continue\n",
    "    lst_sheet_log = [row.tolist()[0]]+row.tolist()[2:]\n",
    "    #print(lst_sheet_log)\n",
    "    status = 'Все указанные темы уже заняты'\n",
    "    #break\n",
    "    if row['Тема из предложенного списка или своя?'] == 'Из предложенного списка':\n",
    "        for n in ['первый', 'второй', 'третий']:\n",
    "            try:\n",
    "                print(row['Название выбранной задачи ({0} приоритет)'.format(n)])\n",
    "                if not row['Название выбранной задачи ({0} приоритет)'.format(n)]:\n",
    "                    status = 'Пустая тема '+n+' приоритет'\n",
    "                    forma.update_cell(index+2, 12, status)\n",
    "                    break\n",
    "                cell = sheet.find(row['Название выбранной задачи ({0} приоритет)'.format(n)])\n",
    "            except gspread.exceptions.GSpreadException:\n",
    "                print('not found')\n",
    "                status = 'Название темы не найдено'\n",
    "                forma.update_cell(index+2, 12, status)\n",
    "                continue\n",
    "            if not sheet.cell(cell.row, 3).value:\n",
    "                if row['Проект групповой?'] == 'Нет':\n",
    "                    sheet.update_cell(cell.row, 3, row['Фамилия Имя Отчество'])\n",
    "                else:\n",
    "                    sheet.update_cell(cell.row, 3, row['Фамилия Имя Отчество']+', '+\n",
    "                              row['Перечислите ФИО других участников проекта (если проект не групповой, то поставьте \"-\")'])\n",
    "                    sheet.update_cell(cell.row, 4, row['Группа'])\n",
    "                    status = 'OK'\n",
    "                    forma.update_cell(index+2, 12, status)\n",
    "                    break\n",
    "    else:\n",
    "        if row['Проект групповой?'] == 'Нет':\n",
    "            lst = [row['Название выбранной задачи (первый приоритет)'],\n",
    "                          row['ФИО руководителя'],\n",
    "                          row['Фамилия Имя Отчество'],\n",
    "                          row['Группа']] \n",
    "        else: \n",
    "            lst = [row['Название выбранной задачи (первый приоритет)'],\n",
    "                          row['ФИО руководителя'],\n",
    "                          row['Фамилия Имя Отчество']+', '+\n",
    "                          row['Перечислите ФИО других участников проекта (если проект не групповой, то поставьте \"-\")'],\n",
    "                          row['Группа']] \n",
    "        sheet.append_row(lst)\n",
    "        status = 'OK'\n",
    "        forma.update_cell(index+2, 12, status)\n",
    "    if status == 'Все указанные темы уже заняты':\n",
    "        forma.update_cell(index+2, 12, status)\n",
    "    lst_sheet_log.append(status)\n",
    "    #print(lst_sheet_log)\n",
    "    sheet_log.append_row(lst_sheet_log)\n",
    "\n",
    "    if status == 'OK' and row['Проект групповой?'] == 'Нет':\n",
    "        students.add(row['Фамилия Имя Отчество'])\n",
    "        print('set ',len(students))\n",
    "    elif status == 'OK' and row['Проект групповой?'] == 'Да':\n",
    "        students.add(row['Фамилия Имя Отчество'])\n",
    "        lst = row['Перечислите ФИО других участников проекта (если проект не групповой, то поставьте \"-\")'].split(',')\n",
    "        for i, x in enumerate(lst):\n",
    "            if x[0] == ' ':\n",
    "                lst[i] = x[1:]\n",
    "        students.update(lst)\n",
    "        print('set ',len(students))\n",
    "        \n",
    "last_update = row['Отметка времени']\n",
    "last_update"
   ]
  },
  {
   "cell_type": "code",
   "execution_count": null,
   "metadata": {
    "colab": {
     "base_uri": "https://localhost:8080/"
    },
    "id": "RfzcJ6oMCwrX",
    "outputId": "d35c6773-bfe3-43a5-f789-0392137505f5"
   },
   "outputs": [],
   "source": [
    "len(students)"
   ]
  },
  {
   "cell_type": "code",
   "execution_count": null,
   "metadata": {
    "id": "miAhkoJPCwrY"
   },
   "outputs": [],
   "source": []
  }
 ],
 "metadata": {
  "colab": {
   "collapsed_sections": [],
   "name": "2021 google spreadsheets.ipynb",
   "provenance": []
  },
  "kernelspec": {
   "display_name": "Python 3",
   "language": "python",
   "name": "python3"
  },
  "language_info": {
   "codemirror_mode": {
    "name": "ipython",
    "version": 3
   },
   "file_extension": ".py",
   "mimetype": "text/x-python",
   "name": "python",
   "nbconvert_exporter": "python",
   "pygments_lexer": "ipython3",
   "version": "3.6.4"
  }
 },
 "nbformat": 4,
 "nbformat_minor": 1
}
