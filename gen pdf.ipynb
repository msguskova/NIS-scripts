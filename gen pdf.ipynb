{
 "cells": [
  {
   "cell_type": "code",
   "execution_count": 1,
   "metadata": {},
   "outputs": [],
   "source": [
    "import gspread\n",
    "from oauth2client.service_account import ServiceAccountCredentials\n",
    "import pandas as pd\n",
    "import subprocess\n",
    "import os"
   ]
  },
  {
   "cell_type": "markdown",
   "metadata": {},
   "source": [
    "from pdflatex import PDFLaTeX"
   ]
  },
  {
   "cell_type": "code",
   "execution_count": 2,
   "metadata": {},
   "outputs": [
    {
     "data": {
      "text/html": [
       "<div>\n",
       "<style scoped>\n",
       "    .dataframe tbody tr th:only-of-type {\n",
       "        vertical-align: middle;\n",
       "    }\n",
       "\n",
       "    .dataframe tbody tr th {\n",
       "        vertical-align: top;\n",
       "    }\n",
       "\n",
       "    .dataframe thead th {\n",
       "        text-align: right;\n",
       "    }\n",
       "</style>\n",
       "<table border=\"1\" class=\"dataframe\">\n",
       "  <thead>\n",
       "    <tr style=\"text-align: right;\">\n",
       "      <th></th>\n",
       "      <th>Фамилия</th>\n",
       "      <th>Имя</th>\n",
       "      <th>Отчество</th>\n",
       "      <th>Курс</th>\n",
       "      <th>Группа</th>\n",
       "    </tr>\n",
       "  </thead>\n",
       "  <tbody>\n",
       "    <tr>\n",
       "      <th>0</th>\n",
       "      <td>Абдыев</td>\n",
       "      <td>Араз</td>\n",
       "      <td>Акшин оглы</td>\n",
       "      <td>1 курс</td>\n",
       "      <td>БПМ202</td>\n",
       "    </tr>\n",
       "    <tr>\n",
       "      <th>1</th>\n",
       "      <td>Алеканкин</td>\n",
       "      <td>Кирилл</td>\n",
       "      <td>Олегович</td>\n",
       "      <td>1 курс</td>\n",
       "      <td>БПМ205</td>\n",
       "    </tr>\n",
       "    <tr>\n",
       "      <th>2</th>\n",
       "      <td>Аманов</td>\n",
       "      <td>Айнар</td>\n",
       "      <td>Нурланович</td>\n",
       "      <td>1 курс</td>\n",
       "      <td>БПМ204</td>\n",
       "    </tr>\n",
       "    <tr>\n",
       "      <th>3</th>\n",
       "      <td>Амиров</td>\n",
       "      <td>Эмир</td>\n",
       "      <td>Шаиг оглы</td>\n",
       "      <td>1 курс</td>\n",
       "      <td>БПМ201</td>\n",
       "    </tr>\n",
       "    <tr>\n",
       "      <th>4</th>\n",
       "      <td>Андриянов</td>\n",
       "      <td>Павел</td>\n",
       "      <td>Павлович</td>\n",
       "      <td>1 курс</td>\n",
       "      <td>БПМ203</td>\n",
       "    </tr>\n",
       "  </tbody>\n",
       "</table>\n",
       "</div>"
      ],
      "text/plain": [
       "     Фамилия     Имя    Отчество    Курс  Группа\n",
       "0     Абдыев    Араз  Акшин оглы  1 курс  БПМ202\n",
       "1  Алеканкин  Кирилл    Олегович  1 курс  БПМ205\n",
       "2     Аманов   Айнар  Нурланович  1 курс  БПМ204\n",
       "3     Амиров    Эмир   Шаиг оглы  1 курс  БПМ201\n",
       "4  Андриянов   Павел    Павлович  1 курс  БПМ203"
      ]
     },
     "execution_count": 2,
     "metadata": {},
     "output_type": "execute_result"
    }
   ],
   "source": [
    "students = pd.read_excel('1 курс БПМ.xlsx')\n",
    "students.head()"
   ]
  },
  {
   "cell_type": "code",
   "execution_count": 3,
   "metadata": {},
   "outputs": [
    {
     "data": {
      "text/plain": [
       "[{'Абдыев', 'Араз'}, {'Алеканкин', 'Кирилл'}, {'Айнар', 'Аманов'}]"
      ]
     },
     "execution_count": 3,
     "metadata": {},
     "output_type": "execute_result"
    }
   ],
   "source": [
    "# в этом году имя и фамилия студента уникальный идентификатор\n",
    "\n",
    "set_students_name = [set([x, y]) for x, y in zip(students['Фамилия'].to_list(),students['Имя'].to_list())]\n",
    "set_students_full_name = [set([x, y, z]) for x, y,z in zip(students['Фамилия'].to_list(),students['Имя'].to_list(), \n",
    "                                                        students['Отчество'].to_list())]\n",
    "set_students_name[:3]"
   ]
  },
  {
   "cell_type": "code",
   "execution_count": 8,
   "metadata": {},
   "outputs": [],
   "source": [
    "# use creds to create a client to interact with the Google Drive API\n",
    "scope = ['https://spreadsheets.google.com/feeds',\n",
    "         'https://www.googleapis.com/auth/drive']\n",
    "creds = ServiceAccountCredentials.from_json_keyfile_name('NIS2021-2-6b794392fe59.json', scope)\n",
    "client = gspread.authorize(creds)"
   ]
  },
  {
   "cell_type": "code",
   "execution_count": 9,
   "metadata": {},
   "outputs": [],
   "source": [
    "# Find a workbook by name and open the first sheet\n",
    "# Make sure you use the right name here.\n",
    "sheet = client.open('2021Оценочный лист проекта (Ответы)').sheet1\n",
    "\n",
    "# Extract and print all of the values\n",
    "list_of_hashes = sheet.get_all_records()\n",
    "#print(list_of_hashes[0])"
   ]
  },
  {
   "cell_type": "code",
   "execution_count": 11,
   "metadata": {},
   "outputs": [
    {
     "data": {
      "text/html": [
       "<div>\n",
       "<style scoped>\n",
       "    .dataframe tbody tr th:only-of-type {\n",
       "        vertical-align: middle;\n",
       "    }\n",
       "\n",
       "    .dataframe tbody tr th {\n",
       "        vertical-align: top;\n",
       "    }\n",
       "\n",
       "    .dataframe thead th {\n",
       "        text-align: right;\n",
       "    }\n",
       "</style>\n",
       "<table border=\"1\" class=\"dataframe\">\n",
       "  <thead>\n",
       "    <tr style=\"text-align: right;\">\n",
       "      <th></th>\n",
       "      <th>Отметка времени</th>\n",
       "      <th>Адрес электронной почты</th>\n",
       "      <th>Название проекта</th>\n",
       "      <th>ФИО руководителя проекта</th>\n",
       "      <th>Должность руководителя проекта</th>\n",
       "      <th>ФИО участника проекта (для групповых проектов оценочный лист заполняется на каждого участника группы)</th>\n",
       "      <th>Группа участника проекта (необязательный вопрос)</th>\n",
       "      <th>Оценка результата/продукта проекта (Опр), 0.7 от результирующей оценки</th>\n",
       "      <th>Примечания к  оценке Опр (при необходимости)</th>\n",
       "      <th>Оценка отчета по  проекту (Оз), 0.3 от результирующей оценки</th>\n",
       "      <th>Примечания к  оценке Оз (при необходимости)</th>\n",
       "      <th>Рекомендуете ли Вы эту работу для выступления, как одну из лучших?</th>\n",
       "      <th>status</th>\n",
       "      <th>сгенерирован оценочный лист</th>\n",
       "      <th>записано в таблицу нис</th>\n",
       "      <th>result</th>\n",
       "      <th></th>\n",
       "    </tr>\n",
       "  </thead>\n",
       "  <tbody>\n",
       "    <tr>\n",
       "      <th>99</th>\n",
       "      <td>05.07.2021 11:50:41</td>\n",
       "      <td>mguskova@miem.hse.ru</td>\n",
       "      <td>Первый проект</td>\n",
       "      <td>Иванов Иван Иванович</td>\n",
       "      <td>Преподаватель</td>\n",
       "      <td>Петров Иван Сергеевич</td>\n",
       "      <td>БПМ201</td>\n",
       "      <td>7</td>\n",
       "      <td></td>\n",
       "      <td>8</td>\n",
       "      <td></td>\n",
       "      <td></td>\n",
       "      <td></td>\n",
       "      <td></td>\n",
       "      <td></td>\n",
       "      <td>7</td>\n",
       "      <td></td>\n",
       "    </tr>\n",
       "    <tr>\n",
       "      <th>100</th>\n",
       "      <td>05.07.2021 11:51:23</td>\n",
       "      <td>mguskova@miem.hse.ru</td>\n",
       "      <td>Второй проект</td>\n",
       "      <td>Иванов Иван Иванович</td>\n",
       "      <td>Преподаватель</td>\n",
       "      <td>Петрова Екатерина Сергеевна</td>\n",
       "      <td>БПМ202</td>\n",
       "      <td>8</td>\n",
       "      <td></td>\n",
       "      <td>7</td>\n",
       "      <td></td>\n",
       "      <td></td>\n",
       "      <td></td>\n",
       "      <td></td>\n",
       "      <td></td>\n",
       "      <td>8</td>\n",
       "      <td></td>\n",
       "    </tr>\n",
       "  </tbody>\n",
       "</table>\n",
       "</div>"
      ],
      "text/plain": [
       "         Отметка времени Адрес электронной почты Название проекта  \\\n",
       "99   05.07.2021 11:50:41    mguskova@miem.hse.ru    Первый проект   \n",
       "100  05.07.2021 11:51:23    mguskova@miem.hse.ru    Второй проект   \n",
       "\n",
       "    ФИО руководителя проекта Должность руководителя проекта  \\\n",
       "99      Иванов Иван Иванович                  Преподаватель   \n",
       "100     Иванов Иван Иванович                  Преподаватель   \n",
       "\n",
       "    ФИО участника проекта (для групповых проектов оценочный лист заполняется на каждого участника группы)  \\\n",
       "99                               Петров Иван Сергеевич                                                      \n",
       "100                        Петрова Екатерина Сергеевна                                                      \n",
       "\n",
       "    Группа участника проекта (необязательный вопрос)  \\\n",
       "99                                            БПМ201   \n",
       "100                                           БПМ202   \n",
       "\n",
       "     Оценка результата/продукта проекта (Опр), 0.7 от результирующей оценки  \\\n",
       "99                                                   7                        \n",
       "100                                                  8                        \n",
       "\n",
       "    Примечания к  оценке Опр (при необходимости)  \\\n",
       "99                                                 \n",
       "100                                                \n",
       "\n",
       "     Оценка отчета по  проекту (Оз), 0.3 от результирующей оценки  \\\n",
       "99                                                   8              \n",
       "100                                                  7              \n",
       "\n",
       "    Примечания к  оценке Оз (при необходимости)  \\\n",
       "99                                                \n",
       "100                                               \n",
       "\n",
       "    Рекомендуете ли Вы эту работу для выступления, как одну из лучших?   \\\n",
       "99                                                                        \n",
       "100                                                                       \n",
       "\n",
       "    status сгенерирован оценочный лист записано в таблицу нис  result    \n",
       "99                                                                  7    \n",
       "100                                                                 8    "
      ]
     },
     "execution_count": 11,
     "metadata": {},
     "output_type": "execute_result"
    }
   ],
   "source": [
    "table = pd.DataFrame(list_of_hashes)\n",
    "table = table.loc[table['сгенерирован оценочный лист']!=1]\n",
    "table"
   ]
  },
  {
   "cell_type": "code",
   "execution_count": 12,
   "metadata": {},
   "outputs": [
    {
     "data": {
      "text/plain": [
       "Index(['Отметка времени', 'Адрес электронной почты', 'Название проекта',\n",
       "       'ФИО руководителя проекта', 'Должность руководителя проекта',\n",
       "       'ФИО участника проекта (для групповых проектов оценочный лист заполняется на каждого участника группы)',\n",
       "       'Группа участника проекта (необязательный вопрос)',\n",
       "       'Оценка результата/продукта проекта (Опр), 0.7 от результирующей оценки',\n",
       "       'Примечания к  оценке Опр (при необходимости)',\n",
       "       'Оценка отчета по  проекту (Оз), 0.3 от результирующей оценки',\n",
       "       'Примечания к  оценке Оз (при необходимости)',\n",
       "       'Рекомендуете ли Вы эту работу для выступления, как одну из лучших? ',\n",
       "       'status', 'сгенерирован оценочный лист', 'записано в таблицу нис',\n",
       "       'result', ''],\n",
       "      dtype='object')"
      ]
     },
     "execution_count": 12,
     "metadata": {},
     "output_type": "execute_result"
    }
   ],
   "source": [
    "table.columns"
   ]
  },
  {
   "cell_type": "code",
   "execution_count": 13,
   "metadata": {},
   "outputs": [],
   "source": [
    "ren = {'Адрес электронной почты':'email',\n",
    "       'Группа участника проекта (необязательный вопрос)':'group',\n",
    "       'Должность руководителя проекта':'position',\n",
    "       'Название проекта':'name',\n",
    "       'Отметка времени':'date',\n",
    "       'Оценка отчета по  проекту (Оз), 0.3 от результирующей оценки':'Oz',\n",
    "       'Оценка результата/продукта проекта (Опр), 0.7 от результирующей оценки':'Opr',\n",
    "       'Результирующая оценка':'results',\n",
    "       'ФИО руководителя проекта':'supervisor',\n",
    "       'ФИО участника проекта (для групповых проектов оценочный лист заполняется на каждого участника группы)':'student',\n",
    "       'Примечания к  оценке Оз (при необходимости)':'prim2',\n",
    "       'Примечания к  оценке Опр (при необходимости)':'prim1'\n",
    "    \n",
    "}"
   ]
  },
  {
   "cell_type": "code",
   "execution_count": 14,
   "metadata": {},
   "outputs": [
    {
     "data": {
      "text/html": [
       "<div>\n",
       "<style scoped>\n",
       "    .dataframe tbody tr th:only-of-type {\n",
       "        vertical-align: middle;\n",
       "    }\n",
       "\n",
       "    .dataframe tbody tr th {\n",
       "        vertical-align: top;\n",
       "    }\n",
       "\n",
       "    .dataframe thead th {\n",
       "        text-align: right;\n",
       "    }\n",
       "</style>\n",
       "<table border=\"1\" class=\"dataframe\">\n",
       "  <thead>\n",
       "    <tr style=\"text-align: right;\">\n",
       "      <th></th>\n",
       "      <th>date</th>\n",
       "      <th>email</th>\n",
       "      <th>name</th>\n",
       "      <th>supervisor</th>\n",
       "      <th>position</th>\n",
       "      <th>student</th>\n",
       "      <th>group</th>\n",
       "      <th>Opr</th>\n",
       "      <th>prim1</th>\n",
       "      <th>Oz</th>\n",
       "      <th>prim2</th>\n",
       "      <th>Рекомендуете ли Вы эту работу для выступления, как одну из лучших?</th>\n",
       "      <th>status</th>\n",
       "      <th>сгенерирован оценочный лист</th>\n",
       "      <th>записано в таблицу нис</th>\n",
       "      <th>result</th>\n",
       "      <th></th>\n",
       "    </tr>\n",
       "  </thead>\n",
       "  <tbody>\n",
       "    <tr>\n",
       "      <th>99</th>\n",
       "      <td>05.07.2021 11:50:41</td>\n",
       "      <td>mguskova@miem.hse.ru</td>\n",
       "      <td>Первый проект</td>\n",
       "      <td>Иванов Иван Иванович</td>\n",
       "      <td>Преподаватель</td>\n",
       "      <td>Петров Иван Сергеевич</td>\n",
       "      <td>БПМ201</td>\n",
       "      <td>7</td>\n",
       "      <td></td>\n",
       "      <td>8</td>\n",
       "      <td></td>\n",
       "      <td></td>\n",
       "      <td></td>\n",
       "      <td></td>\n",
       "      <td></td>\n",
       "      <td>7</td>\n",
       "      <td></td>\n",
       "    </tr>\n",
       "    <tr>\n",
       "      <th>100</th>\n",
       "      <td>05.07.2021 11:51:23</td>\n",
       "      <td>mguskova@miem.hse.ru</td>\n",
       "      <td>Второй проект</td>\n",
       "      <td>Иванов Иван Иванович</td>\n",
       "      <td>Преподаватель</td>\n",
       "      <td>Петрова Екатерина Сергеевна</td>\n",
       "      <td>БПМ202</td>\n",
       "      <td>8</td>\n",
       "      <td></td>\n",
       "      <td>7</td>\n",
       "      <td></td>\n",
       "      <td></td>\n",
       "      <td></td>\n",
       "      <td></td>\n",
       "      <td></td>\n",
       "      <td>8</td>\n",
       "      <td></td>\n",
       "    </tr>\n",
       "  </tbody>\n",
       "</table>\n",
       "</div>"
      ],
      "text/plain": [
       "                    date                 email           name  \\\n",
       "99   05.07.2021 11:50:41  mguskova@miem.hse.ru  Первый проект   \n",
       "100  05.07.2021 11:51:23  mguskova@miem.hse.ru  Второй проект   \n",
       "\n",
       "               supervisor       position                      student   group  \\\n",
       "99   Иванов Иван Иванович  Преподаватель        Петров Иван Сергеевич  БПМ201   \n",
       "100  Иванов Иван Иванович  Преподаватель  Петрова Екатерина Сергеевна  БПМ202   \n",
       "\n",
       "     Opr prim1  Oz prim2  \\\n",
       "99     7         8         \n",
       "100    8         7         \n",
       "\n",
       "    Рекомендуете ли Вы эту работу для выступления, как одну из лучших?   \\\n",
       "99                                                                        \n",
       "100                                                                       \n",
       "\n",
       "    status сгенерирован оценочный лист записано в таблицу нис  result    \n",
       "99                                                                  7    \n",
       "100                                                                 8    "
      ]
     },
     "execution_count": 14,
     "metadata": {},
     "output_type": "execute_result"
    }
   ],
   "source": [
    "df = table.copy()\n",
    "df.rename(columns=ren,inplace=True)\n",
    "df"
   ]
  },
  {
   "cell_type": "code",
   "execution_count": 15,
   "metadata": {},
   "outputs": [],
   "source": [
    "def run_util(cmd, folder, prnt=True):\n",
    "    '''\n",
    "        Run (console) program (utility) and return it output.\n",
    "    '''\n",
    "    if type(cmd) == str:\n",
    "        cmd = cmd.split()\n",
    "    if prnt:\n",
    "        print('Running:' , ' '.join(cmd))\n",
    "    output = subprocess.Popen(cmd, stdout=subprocess.PIPE, cwd=folder).communicate()[0]#.decode(\"utf-8\")\n",
    "    return output"
   ]
  },
  {
   "cell_type": "code",
   "execution_count": 16,
   "metadata": {},
   "outputs": [],
   "source": [
    "def find_group(student):\n",
    "    st = set(student.split())\n",
    "    assert st in set_students_name or st in set_students_full_name, st\n",
    "    for i in range(len(set_students_name)):\n",
    "        if st == set_students_full_name[i]:\n",
    "            return students.iloc[i]['Группа']\n",
    "    "
   ]
  },
  {
   "cell_type": "code",
   "execution_count": 17,
   "metadata": {},
   "outputs": [],
   "source": [
    "def find_full_name(student):\n",
    "    st = set(student.split())\n",
    "    #assert st in set_students_name or st in set_students_full_name, st\n",
    "    if not (st in set_students_name or st in set_students_full_name):\n",
    "        print(st)\n",
    "    \n",
    "    if st in set_students_full_name:\n",
    "        return student\n",
    "    for i in range(len(set_students_name)):\n",
    "        if st == set_students_name[i]:\n",
    "            return students.iloc[i]['Фамилия']+' '+students.iloc[i]['Имя']+' '+students.iloc[i]['Отчество']\n",
    "    return student\n",
    "     "
   ]
  },
  {
   "cell_type": "code",
   "execution_count": 79,
   "metadata": {},
   "outputs": [],
   "source": [
    "df.student = df.student.apply(find_full_name) \n",
    "df.loc[df.group==''].group = df.loc[df.group==''].student.apply(find_group)"
   ]
  },
  {
   "cell_type": "code",
   "execution_count": 18,
   "metadata": {},
   "outputs": [],
   "source": [
    "def replace(st, i):\n",
    "    st = st.replace('NAME', df.name.iloc[i])\n",
    "    st = st.replace('SUPERVISOR', df.supervisor.iloc[i])\n",
    "    st = st.replace('POSITION', df.position.iloc[i])\n",
    "    st = st.replace('STUDENT', df.student.iloc[i])\n",
    "       \n",
    "    st = st.replace('GROUP', df.group.iloc[i])\n",
    "    st = st.replace('MARK1', str(df.Opr.iloc[i]))\n",
    "    st = st.replace('MARK2', str(df.Oz.iloc[i]))\n",
    "    \n",
    "    st = st.replace('RESULT', str(df.result.iloc[i]))\n",
    "    st = st.replace('PRIM1', str(df.prim1.iloc[i]))\n",
    "    st = st.replace('PRIM2', str(df.prim2.iloc[i]))\n",
    "    st = st.replace('DATE', str(df.date.iloc[i].split(' ')[0]))\n",
    "    kze = 0 if df.result.iloc[i] < 4 else 2\n",
    "    st = st.replace('RESKZE', str(kze))\n",
    "    return st"
   ]
  },
  {
   "cell_type": "code",
   "execution_count": 19,
   "metadata": {},
   "outputs": [
    {
     "name": "stdout",
     "output_type": "stream",
     "text": [
      "Running: pdflatex.exe -synctex=1 -interaction=nonstopmode \"оценочный лист Иванов Иван Иванович Петров Иван Сергеевич БПМ201\".tex\n",
      "Running: pdflatex.exe -synctex=1 -interaction=nonstopmode \"оценочный лист Иванов Иван Иванович Петрова Екатерина Сергеевна БПМ202\".tex\n"
     ]
    }
   ],
   "source": [
    "folder = 'оценочные листы/'\n",
    "for i in range(df.shape[0]):\n",
    "    with open('mark_template_py.tex', 'r', encoding='utf8') as template:\n",
    "        file_name = 'оценочный лист ' + df.supervisor.iloc[i]+\\\n",
    "                  ' '+df.student.iloc[i]+' '+df.group.iloc[i] + '.tex'\n",
    "        if os.path.exists(folder + file_name):\n",
    "            os.remove(folder + file_name)\n",
    "            os.remove(folder + file_name[:-4] + '.pdf')\n",
    "            \n",
    "        with open(folder + file_name, 'a', encoding='utf8') as file:\n",
    "            lst = template.readlines()\n",
    "            for st in lst:\n",
    "                file.write(replace(st, i))\n",
    "        command = f'pdflatex.exe -synctex=1 -interaction=nonstopmode \"%s\".tex'%file_name[:-4]\n",
    "        run_util(command, folder);\n",
    "\n"
   ]
  },
  {
   "cell_type": "code",
   "execution_count": null,
   "metadata": {},
   "outputs": [],
   "source": []
  },
  {
   "cell_type": "code",
   "execution_count": 69,
   "metadata": {},
   "outputs": [],
   "source": [
    "df[['name', 'supervisor', 'student', 'group', 'Opr', 'Oz','result']].to_csv('current.csv', index=False, sep=';')"
   ]
  }
 ],
 "metadata": {
  "kernelspec": {
   "display_name": "Python 3",
   "language": "python",
   "name": "python3"
  },
  "language_info": {
   "codemirror_mode": {
    "name": "ipython",
    "version": 3
   },
   "file_extension": ".py",
   "mimetype": "text/x-python",
   "name": "python",
   "nbconvert_exporter": "python",
   "pygments_lexer": "ipython3",
   "version": "3.6.4"
  }
 },
 "nbformat": 4,
 "nbformat_minor": 2
}
